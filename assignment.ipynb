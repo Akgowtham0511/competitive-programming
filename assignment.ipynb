from __future__ import print_function

#checking for the given word if can be made from the strings given
def making_strings(sentence,word):
	#sentence -> main string to be provided while calling in the main function
	freq_word = {} #storing the frequency of the word to be made from the string given
	freq_sentence = {} #storing the frequency of the string 
	
	for i in sentence:
		if ord(i) < 65 or (ord(i)>90 and ord(i)<97) or ord(i)>122:
			pass
		elif i in freq_sentence:
			freq_sentence[i] += 1
		else:
			freq_sentence[i] = 1
			
	for i in word:
		if i in freq_word:
			freq_word[i] += 1
		else:
			freq_word[i] = 1

	for i in freq_word:
		
		if i in freq_sentence.keys():
			if freq_sentence[i] < freq_word[i]:
				return "NO"
		else:
			return "NO"	
	return "yes"


#Finding the word The and removing it
def finding_the(sentence): #sentence -> main string to be provided while calling in the main function
	count = 0
	new_string = "\0"
	
	if(sentence[0]=="T" and sentence[1]=="h" and sentence[2]=="e"):
		new_string = sentence.split(" ",1)[1]
		
	old_string = new_string.replace("the",'')	
	final_string = old_string.replace("The",'')	
	return final_string
	
	
	 
s = raw_input()  #string input
all_freq = {}    # for storing the frequency of the string
print(s)
words = 0      #for counting the number of words in the string
s1 = "kryptonite"
s2 = "patience"

for i in s:
	
	if ord(i) < 65 or (ord(i)>90 and ord(i)<97) or ord(i)>122: #ord -> checking the ASCII value 
		if i == " ":
			words += 1
	elif i in all_freq:
		all_freq[i] += 1
	else:
		all_freq[i] = 1


#printing all the frequency of the  characters in th order of their occurence
for j in s:
	
	if ord(j) < 65 or (ord(j)>90 and ord(j)<97) or ord(j)>122:#ord -> checking the ASCII value
		pass
	elif all_freq[j] !=0:
		print("{} = {}".format(j,all_freq[j]))
        all_freq[j] = 0

#counting number of word
print ('The number of words in the senetence is ',words+1)


#printing every second letter from reverse and replacing "g" with "x"
c = 0;
print("Every second character from reverse of the string = ", end = " ")
for i in s[: : -1]:
	c += 1
	if c % 2 == 0:
		if i == "g":
			print("X",end = "")
		else:
		    print(i, end ="")  
		 
print()

#checking whether the given strings could be made from the following strings provided
if(making_strings(s,s1)=="NO"):
	print("The following word could not be made",s1)
else:
	print("The following  word could be made",s1)
	
if(making_strings(s,s2)=="NO"):
	print("The following word could not be made",s2)
else:
	print("The word could be made",s2)











